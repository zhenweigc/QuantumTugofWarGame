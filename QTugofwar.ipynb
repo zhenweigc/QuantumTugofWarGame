{
 "cells": [
  {
   "cell_type": "markdown",
   "id": "8aa3839d",
   "metadata": {},
   "source": [
    "#### COMS 4281 - Intro to Quantum Computing \n",
    "\n",
    "# Problem Set 5: Qubit Tug-of-War\n",
    "\n",
    "## Due date: December 18, 11:59pm.\n",
    "\n",
    "$\\newcommand{\\ket}[1]{\\left|{#1}\\right\\rangle} \\newcommand{\\bra}[1]{\\left\\langle{#1}\\right|}$\n",
    "$\\newcommand{\\ketbra}[2]{\\left | {#1} \\right \\rangle \\left \\langle {#2} \\right |}$\n",
    "$\\newcommand{\\C}{{\\mathbb{C}}}$\n",
    "$\\newcommand{\\N}{{\\mathbb{N}}}$\n",
    "$\\newcommand{\\F}{{\\mathbb{F}}}$\n",
    "$\\newcommand{\\K}{{\\mathbb{K}}}$\n",
    "$\\newcommand{\\R}{{\\mathbb{R}}}$\n",
    "$\\newcommand{\\Z}{{\\mathbb{Z}}}$\n",
    "$\\newcommand{\\Tr}{\\mathrm{Tr}}$"
   ]
  },
  {
   "cell_type": "markdown",
   "id": "041be559",
   "metadata": {},
   "source": [
    "For the second part of Problem Set 5, you should get into teams of at most 3 (**this will be strictly enforced**), and as a team you will come up with strategies for a quantum video game we call **Qubit Tug-of-War**. \n",
    "\n",
    "### Please register your team with by filling out https://forms.gle/z5FvHubfoZvsPqxk6"
   ]
  },
  {
   "cell_type": "markdown",
   "id": "81ac9f62",
   "metadata": {},
   "source": [
    "## Rules of the game\n",
    "\n",
    "There are two teams in this game, Team $\\ket{0}$ and Team $\\ket{1}$. They take turns getting control of a rotating qubit $\\ket{\\psi}$. In between the teams' turns, the qubit rotates by either $\\theta$ or $-\\theta$ depending on the current **direction of rotation**. At the beginning, the qubit starts rotating in the direction of $\\theta$.\n",
    "\n",
    "During their turn, each team can choose to perform an **action** from their **hand** (think of an action as a \"card\"). Here are possible actions that a team can have:\n",
    "\n",
    "1. _Measure_: this measures $\\ket{\\psi}$ in the standard basis. \n",
    "2. _X_: apply Pauli $X$ gate to $\\ket{\\psi}$.\n",
    "3. _Z_: apply Pauli $Z$ gate to $\\ket{\\psi}$.\n",
    "4. _H_: apply the Hadamard $H$ gate to $\\ket{\\psi}$.\n",
    "5. _R_: reverse the direction of the qubit rotation (i.e. qubit gets rotated by $-\\theta$ instead of $\\theta$ and vice versa).\n",
    "\n",
    "A team can also choose to pass (do nothing). If they perform an action, it gets removed from their hand."
   ]
  },
  {
   "cell_type": "markdown",
   "id": "8ac1fb91",
   "metadata": {},
   "source": [
    "Each team starts with an empty hand. At random intervals, each team gets a random action, unless they already have $5$ actions in a hand, or have already received the maximum of $M = 20$ actions throughout the game.\n",
    "\n",
    "At the start of their turn, each team learns:\n",
    "1. What actions were performed in the previous round (by Team $\\ket{0}$ and Team $\\ket{1}$).\n",
    "2. If there were measurements, what the outcome were.\n",
    "\n",
    "**Important**: each team is responsible for calculating the state of the qubit based on the history of actions and measurement results.\n",
    "\n",
    "There are a total of $T = 100$ turns for each team. At the end, the qubit $\\ket{\\psi}$ is measured, and if the outcome is $\\ket{b}$, then Team $\\ket{b}$ wins."
   ]
  },
  {
   "cell_type": "markdown",
   "id": "3289478c",
   "metadata": {},
   "source": [
    "### Game Parameters\n",
    "\n",
    "We've specified the parameters with default values as follows:\n",
    "* Number of rounds: $T = 100$\n",
    "* Action budget (this maximum number of actions a team can receive): $20$\n",
    "* Hand size (maximum number of actions they can have at one time): $5$\n",
    "* $\\theta$ (angle of rotation): $2\\pi/100$\n",
    "* The relative frequency of the actions are as follows:\n",
    "    - Measure: 5%\n",
    "    - X, Y, H : 25%\n",
    "    - Reverse: 20%\n",
    "* Initial state of qubit: $\\ket{+} = \\frac{1}{\\sqrt{2}} (\\ket{0} + \\ket{1})$."
   ]
  },
  {
   "cell_type": "markdown",
   "id": "d5e4babb",
   "metadata": {},
   "source": [
    "## Programming your QToW Bot"
   ]
  },
  {
   "cell_type": "markdown",
   "id": "ba60cfe6",
   "metadata": {},
   "source": [
    "Instead of playing this game in person, your team will program a **bot** to play for you. Your bot will be pitted against other teams' bots.\n",
    "\n",
    "We will provide a few basic bots to help you develop your own strategy. One of the bots is called the `RandomBot`, which chooses actions randomly."
   ]
  },
  {
   "cell_type": "code",
   "execution_count": null,
   "id": "014efde6",
   "metadata": {},
   "outputs": [],
   "source": [
    "%run GamePlayer.py\n",
    "\n",
    "class RandomBot(GameBot):\n",
    "    def play_action(self,\n",
    "                    team: int,\n",
    "                    round_number: int,\n",
    "                    hand: List[GameAction],\n",
    "                    prev_turn: List) -> Optional[GameAction]:\n",
    "        \n",
    "        #this is the probability that it chooses to play an action\n",
    "        p = 0.2\n",
    "        \n",
    "        #if the hand is non-empty and we flip a coin and it lands heads with probability p,\n",
    "        #choose a random action\n",
    "        if len(hand) > 0 and np.random.random() < p:\n",
    "            action = random.choice(hand)\n",
    "            return action\n",
    "        \n",
    "        #otherwise, don't play an action\n",
    "        return None"
   ]
  },
  {
   "cell_type": "markdown",
   "id": "53c8d340",
   "metadata": {},
   "source": [
    "All bots are a Python class that inherits `GameBot`. There is just one function to implement, called `play_action`, which (aside from `self`), has the following arguments:\n",
    "1. `team`: this indicates whether the bot is team 0 or team 1.\n",
    "2. `round_number`: this indicates which round (between $0$ and $T = 200$) the bot is currently playing\n",
    "3. `hand`: this is a list of `GameAction`s that is available for the bot to play. There are several GameActions that can be played:\n",
    "    - `GameAction.MEASURE`\n",
    "    - `GameAction.PAULIX`\n",
    "    - `GameAction.PAULIZ`\n",
    "    - `GameAction.HADAMARD`\n",
    "    - `GameAction.REVERSE`\n",
    "\n",
    "So an example of a `hand` could be the following list: `[GameAction.MEASURE,GameAction.PAULIZ,GameAction.PAULIZ,GameAction.REVERSE]`. Meaning that the bot can measure, apply Pauli Z (twice), or reverse the direction of the qubit rotation.\n",
    "\n",
    "Every few rounds, a random action will be added to the bot's hand, unless (a) the hand is full, or (b) $M = 20$ actions have already been added.\n",
    "\n",
    "4. `prev_turn`: this is a Python dictionary that specifies what happened in the previous turns. The keys of this dictionary are: `team0_action`, `team1_action`, `team0_measurement`, `team1_measurement`. The `team0/1_action` entries store the `GameAction` that was performed by the team, or `None` if they didn't perform an action. If a team performed a measurement action, then the `team0/1_measurement` entries indicate the result of a measurement(either `[1,0]` or `[0,1]` to indicate collapsing to $\\ket{0}$ or $\\ket{1}$). If the team didn't perform a measurement action, then this entry will be set to `None`.\n",
    "\n",
    "For example, suppose in the previous turn Team $\\ket{0}$ used a HADAMARD action and Team $\\ket{1}$ measured. Then the dictionary would look like this:\n",
    "\n",
    "`prev_turn = {'team0_action': GameAction.HADAMARD, 'team1_action': GameAction.MEASURE, 'team0_measurement': None, 'team1_measurement': = [1,0]}`\n",
    "\n",
    "You may find it helpful to design a bot, for example, that chooses its actions based on the history of yours and the other team's past actions.\n",
    "\n",
    "Here's another example of a bot. It's not very intelligent, but should illustrate some things you can do."
   ]
  },
  {
   "cell_type": "code",
   "execution_count": null,
   "id": "38ce86c0",
   "metadata": {},
   "outputs": [],
   "source": [
    "class WeirdBot(GameBot):\n",
    "    def play_action(self,\n",
    "                    team: int,\n",
    "                    round_number: int,\n",
    "                    hand: List[GameAction],\n",
    "                    prev_turn: List) -> Optional[GameAction]:\n",
    "        \n",
    "        \n",
    "        #if the round is even, check if there's a PauliX operation, and play it if there is.\n",
    "        if GameAction.PAULIX in hand and team % 2 == 0:\n",
    "            return GameAction.PAULIX\n",
    "        \n",
    "        #otherwise if round is odd, try to measure\n",
    "        if GameAction.MEASURE in hand and team % 2 == 1:\n",
    "            return GameAction.MEASURE\n",
    "    \n",
    "\n",
    "        return None"
   ]
  },
  {
   "cell_type": "markdown",
   "id": "794745a4",
   "metadata": {},
   "source": [
    "Let's pit `RandomBot` versus `WeirdBot` against each other! When creating the bots, you need to pass the name of the bot as an argument."
   ]
  },
  {
   "cell_type": "code",
   "execution_count": null,
   "id": "faeaa99b",
   "metadata": {},
   "outputs": [],
   "source": [
    "#create the bots\n",
    "weirdbot = WeirdBot(\"The Weirdos\")\n",
    "randombot = RandomBot(\"The Randos\")\n",
    "    \n",
    "#create the gameplayer with the weirdbot as team |0> and randombot as team |1>\n",
    "gp = GamePlayer(weirdbot,randombot)\n",
    "    \n",
    "#play the game, get the winning state\n",
    "winning_state = gp.play_rounds()\n",
    "\n",
    "if winning_state[0] == 1:\n",
    "    print(\"===Weird bot beats Random bot!===\")\n",
    "else:\n",
    "    print(\"===Random bot beats Weird bot!===\")"
   ]
  },
  {
   "cell_type": "markdown",
   "id": "2b938a41",
   "metadata": {},
   "source": [
    "To see a transcript of the game, you can run the following code. It shows you the state of the qubit at each round, the actions that were performed, and which actions were added to the bots' hands. If you're running this in IBM Quantum Lab, you probably want to right click on the output cell and select \"Enable scrolling for outputs\"."
   ]
  },
  {
   "cell_type": "code",
   "execution_count": null,
   "id": "ff8832f8",
   "metadata": {},
   "outputs": [],
   "source": [
    "#get the event log\n",
    "log = gp.get_event_log()\n",
    "print(log)\n"
   ]
  },
  {
   "cell_type": "markdown",
   "id": "da0eaee7",
   "metadata": {},
   "source": [
    "Now try creating your own bot by writing code below."
   ]
  },
  {
   "cell_type": "code",
   "execution_count": null,
   "id": "ace2d516",
   "metadata": {},
   "outputs": [],
   "source": [
    "'''\n",
    "Insert high-level explanation of your strategy here. Why did you design this strategy?\n",
    "When should it work well, and when should it have trouble?\n",
    "'''\n",
    "class MyStrategy(GameBot):\n",
    "\n",
    "    '''\n",
    "        Initialize your bot here. The init function must take in a bot_name.\n",
    "        You can use this to initialize any variables or data structures\n",
    "        to keep track of things in the game\n",
    "    '''\n",
    "    def __init__(self,bot_name):\n",
    "        self.bot_name = bot_name        #do not remove this\n",
    "    \n",
    "    def play_action(self,\n",
    "                    team: int,\n",
    "                    round_number: int,\n",
    "                    hand: List[GameAction],\n",
    "                    prev_turn: List) -> Optional[GameAction]:\n",
    "        \n",
    "\n",
    "        ##### IMPLEMENT AWESOME STRATEGY HERE ##################\n",
    "        \n",
    "        \n",
    "        #######################################################\n",
    "        return None"
   ]
  },
  {
   "cell_type": "markdown",
   "id": "fe225cad",
   "metadata": {},
   "source": [
    "## Submitting your bots\n",
    "\n",
    "Once you have a bot ready to play against others, you should copy your Bot code (e.g. the `MyStrategy` class) into a separate python file (see the example file `example_bot.py`) and also include the following includes:\n",
    "\n",
    "`from typing import List, Optional\n",
    "import numpy as np\n",
    "import random\n",
    "from GamePlayer import *`\n",
    "\n",
    "Then, visit the Qubit Tug-of-War website at https://henryyuen.net/fall2022/qtugofwar and click \"Upload your bot\". You will need your Team ID. If you don't have one, register your team at https://forms.gle/z5FvHubfoZvsPqxk6 and e-mail Prof. Yuen to get a Team ID. \n",
    "\n",
    "A tournament between all the bots will be played daily, and the Leaderboard will be updated to show the current performance. You can browse the statistics and examine sample transcripts of games.\n",
    "\n",
    "Some constraints\n",
    "* Your bot python file cannot exceed 30kb.\n",
    "* If your bot crashes or throws an error, it automatically loses.\n",
    "* If your bot runs for too much time, it automatically loses.\n",
    "* Do not include any custom python packages, because it is unlikely we will have them.\n",
    "\n",
    "The Leaderboard will be active from **December 1** to **December 15**. It will not be updated after December 16 so there will be a couple days for teams to optimize their bots in secret!\n",
    "\n",
    "Your bot is due **December 18, 11:59pm**. A final Tournament will be played on **December 19** to determine the winning teams.\n",
    "\n",
    "### Late bots are not accepted!\n"
   ]
  },
  {
   "cell_type": "markdown",
   "id": "61d31340",
   "metadata": {},
   "source": [
    "## Grading\n",
    "\n"
   ]
  },
  {
   "cell_type": "markdown",
   "id": "38904ae3",
   "metadata": {},
   "source": [
    "Every team must work independently on their bot (teams should not share code). Your bots will be graded in the following way. Points will be awarded based on a combination of:\n",
    "1. Effort and creativity,\n",
    "2. Whether your code includes in the beginning a discussion about your strategy and your rationale behind the design choices, and\n",
    "3. Performance against other bots. \n",
    "\n",
    "As a target, you should try to design a bot that consistently beats `RandomBot` at least 60% of the time.\n",
    "\n",
    "\n",
    "\n"
   ]
  },
  {
   "cell_type": "code",
   "execution_count": null,
   "id": "32c6d9a5",
   "metadata": {},
   "outputs": [],
   "source": []
  }
 ],
 "metadata": {
  "kernelspec": {
   "display_name": "Python 3 (ipykernel)",
   "language": "python",
   "name": "python3"
  },
  "language_info": {
   "codemirror_mode": {
    "name": "ipython",
    "version": 3
   },
   "file_extension": ".py",
   "mimetype": "text/x-python",
   "name": "python",
   "nbconvert_exporter": "python",
   "pygments_lexer": "ipython3",
   "version": "3.8.9"
  },
  "vscode": {
   "interpreter": {
    "hash": "0496f9bd3589af8a458940f52e746dd431c597080565717c85ba61b585cc60bf"
   }
  }
 },
 "nbformat": 4,
 "nbformat_minor": 5
}
